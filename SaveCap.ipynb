{
 "cells": [
  {
   "cell_type": "code",
   "execution_count": 59,
   "metadata": {},
   "outputs": [],
   "source": [
    "from selenium import webdriver\n",
    "from selenium.webdriver.common.keys import Keys\n",
    "import requests\n",
    "\n",
    "driver = webdriver.Firefox(executable_path =\"C:\\\\Users\\\\Denis\\\\Downloads\\\\geckodriver.exe\")\n",
    "driver.get(\"https://service.nalog.ru/bi.do\") \n",
    "for i in range (300):\n",
    "    img=driver.find_element_by_xpath('//*[@id=\"frmSearch\"]/div/div[1]/div[8]/div/div/div/img')#XPath капчи\n",
    "    src=img.get_attribute('src')# Получаем местоположение капчи\n",
    "    img=requests.get(src)# Получаем изображение\n",
    "    my_string = \"Images\\\\image%i.jpg\" % (i) # Создаем строки для имени картинок\n",
    "    with open(my_string,'wb') as writer:# Открываем для записи в двоичном режиме\n",
    "        writer.write(img.content)# Пишем\n",
    "    img=driver.find_element_by_xpath('//*[@id=\"frmSearch\"]/div/div[1]/div[8]/div/div/div/a').click() # Кликаем на кнопку \"Сменить картинку\"\n",
    "driver.close()    "
   ]
  },
  {
   "cell_type": "code",
   "execution_count": null,
   "metadata": {},
   "outputs": [],
   "source": []
  }
 ],
 "metadata": {
  "kernelspec": {
   "display_name": "Python 3",
   "language": "python",
   "name": "python3"
  }
 },
 "nbformat": 4,
 "nbformat_minor": 2
}
