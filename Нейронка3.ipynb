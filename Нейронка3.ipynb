{
 "cells": [
  {
   "cell_type": "code",
   "execution_count": 1,
   "metadata": {},
   "outputs": [
    {
     "name": "stdout",
     "output_type": "stream",
     "text": [
      "(10000, 60, 160)\n",
      "(1000, 60, 160)\n",
      "(10000, 4)\n",
      "(1000, 4)\n",
      "10000\n"
     ]
    }
   ],
   "source": [
    "import tensorflow as tf\n",
    "from tensorflow import keras\n",
    "import numpy as np\n",
    "from scipy import misc\n",
    "import matplotlib.pyplot as plt\n",
    "import pandas as pd\n",
    "import csv\n",
    "from captcha.image import ImageCaptcha\n",
    "import random\n",
    "\n",
    "x_train = []\n",
    "x_validate = []\n",
    "y_train = []\n",
    "y_validate = []\n",
    "image2 = np.empty((60,160), dtype = float)\n",
    "for i in range(10000):\n",
    "    label = random.randint(1000, 9999)\n",
    "    label = '%i' % (label)\n",
    "    image_captcha = ImageCaptcha()\n",
    "    image = image_captcha.generate_image(label)\n",
    "    image = np.array(image)\n",
    "    y_train_1 = [int(j) for j in label]\n",
    "    y_train.append(y_train_1)\n",
    "    image2 = image[:,:,0]\n",
    "    x_train.append(image2)\n",
    "for i in range(1000):\n",
    "    label = random.randint(1000, 9999)\n",
    "    label = '%i' % (label)\n",
    "    image_captcha = ImageCaptcha()\n",
    "    image = image_captcha.generate_image(label)\n",
    "    image = np.array(image)\n",
    "    y_validate_1 = [int(j) for j in label]\n",
    "    y_validate.append(y_validate_1)\n",
    "    image2 = image[:,:,0]\n",
    "    x_validate.append(image2)\n",
    "x_train = np.array(x_train)\n",
    "x_validate = np.array(x_validate)\n",
    "y_train = np.array(y_train)\n",
    "y_validate = np.array(y_validate)\n",
    "print(x_train.shape)\n",
    "print(x_validate.shape)\n",
    "print(y_train.shape)\n",
    "print(y_validate.shape)\n",
    "print(x_train.shape[0])\n",
    "x_train = x_train.reshape(x_train.shape[0], 60, 160, 1)\n",
    "x_validate = x_validate.reshape(x_validate.shape[0], 60, 160, 1)\n",
    "x_train = x_train.astype('float32')\n",
    "x_validate = x_validate.astype('float32')\n",
    "x_train /= 255\n",
    "x_validate /= 255"
   ]
  },
  {
   "cell_type": "code",
   "execution_count": 5,
   "metadata": {},
   "outputs": [],
   "source": [
    "num_classes = 10\n",
    "y_train = keras.utils.to_categorical(y_train, num_classes)\n",
    "y_validate = keras.utils.to_categorical(y_validate, num_classes)"
   ]
  },
  {
   "cell_type": "code",
   "execution_count": 54,
   "metadata": {},
   "outputs": [
    {
     "name": "stdout",
     "output_type": "stream",
     "text": [
      "[0.   0.25 0.   0.   0.   0.   0.   0.   0.   0.   0.   0.   0.   0.\n",
      " 0.   0.   0.   0.   0.   0.25 0.   0.   0.25 0.   0.   0.   0.   0.\n",
      " 0.   0.   0.   0.   0.   0.   0.   0.   0.   0.   0.   0.25]\n"
     ]
    }
   ],
   "source": [
    "y_train = y_train.reshape((10000, 40))/\n",
    "y_validate = y_validate/4\n",
    "print(y_train[100])"
   ]
  },
  {
   "cell_type": "code",
   "execution_count": 46,
   "metadata": {},
   "outputs": [],
   "source": [
    "from keras.models import Sequential\n",
    "from keras.layers import Conv2D\n",
    "from keras.layers import MaxPooling2D\n",
    "from keras.layers import Flatten\n",
    "from keras.layers import Dense\n",
    "\n",
    "model = Sequential()\n",
    "#Layer 1\n",
    "#Conv Layer 1\n",
    "model.add(Conv2D(filters = 6, \n",
    "                 kernel_size = 5, \n",
    "                 strides = 1, \n",
    "                 activation = 'relu', \n",
    "                 input_shape = (60,160,1)))\n",
    "#Pooling layer 1\n",
    "model.add(MaxPooling2D(pool_size = 2, strides = 2))\n",
    "#Layer 2\n",
    "#Conv Layer 2\n",
    "model.add(Conv2D(filters = 16, \n",
    "                 kernel_size = 5,\n",
    "                 strides = 1,\n",
    "                 activation = 'relu', input_shape = (30,80,6)\n",
    "                 ))\n",
    "#Pooling Layer 2\n",
    "model.add(MaxPooling2D(pool_size = 2, strides = 2))\n",
    "#Flatten\n",
    "model.add(Flatten())\n",
    "#Layer 3\n",
    "#Fully connected layer 1\n",
    "model.add(Dense(units = 120, activation = 'relu'))\n",
    "#Layer 4\n",
    "#Fully connected layer 2\n",
    "model.add(Dense(units = 84, activation = 'relu'))\n",
    "#Layer 5\n",
    "#Output Layer\n",
    "model.add(Dense(units = 40, activation = 'softmax'))\n"
   ]
  },
  {
   "cell_type": "code",
   "execution_count": 47,
   "metadata": {},
   "outputs": [],
   "source": [
    "model.compile(optimizer = 'adam', loss = 'categorical_crossentropy', metrics = ['accuracy'])"
   ]
  },
  {
   "cell_type": "code",
   "execution_count": 56,
   "metadata": {},
   "outputs": [
    {
     "name": "stdout",
     "output_type": "stream",
     "text": [
      "Epoch 1/3\n",
      "10000/10000 [==============================] - 132s 13ms/step - loss: 2.6351 - acc: 0.3116\n",
      "Epoch 2/3\n",
      "10000/10000 [==============================] - 131s 13ms/step - loss: 2.4917 - acc: 0.3259\n",
      "Epoch 3/3\n",
      "10000/10000 [==============================] - 130s 13ms/step - loss: 2.3682 - acc: 0.3229\n"
     ]
    },
    {
     "data": {
      "text/plain": [
       "<keras.callbacks.History at 0x19fafb66240>"
      ]
     },
     "execution_count": 56,
     "metadata": {},
     "output_type": "execute_result"
    }
   ],
   "source": [
    "model.fit(x_train, y_train, epochs=3)"
   ]
  },
  {
   "cell_type": "code",
   "execution_count": 57,
   "metadata": {},
   "outputs": [
    {
     "name": "stdout",
     "output_type": "stream",
     "text": [
      "1000/1000 [==============================] - 6s 6ms/step\n",
      "Точность после проверки: 0.286\n"
     ]
    }
   ],
   "source": [
    "test_loss, test_acc = model.evaluate(x_validate, y_validate)\n",
    "\n",
    "print('Точность после проверки:', test_acc)"
   ]
  },
  {
   "cell_type": "code",
   "execution_count": 55,
   "metadata": {},
   "outputs": [
    {
     "name": "stdout",
     "output_type": "stream",
     "text": [
      "[1.83755122e-09 1.62478741e-02 1.53842522e-02 9.39958205e-04\n",
      " 3.59202968e-03 3.40424267e-05 1.31173249e-04 2.15965182e-01\n",
      " 2.98427098e-04 4.03441396e-03 1.53429992e-03 5.67312026e-03\n",
      " 1.48118669e-02 1.21318094e-01 3.93089504e-05 4.57981136e-03\n",
      " 1.28119660e-03 1.08368888e-01 5.56241348e-03 2.56219413e-03\n",
      " 4.28646384e-03 1.85127258e-02 1.14122294e-02 6.94302022e-02\n",
      " 1.78587448e-04 7.04409741e-03 3.76157765e-03 2.26079579e-02\n",
      " 2.57961657e-02 7.49774138e-03 4.70981700e-03 3.99390496e-02\n",
      " 1.09899268e-02 3.43390531e-03 1.73015159e-03 9.71332472e-03\n",
      " 6.04218105e-03 2.24808991e-01 4.12868150e-03 1.61781674e-03]\n",
      "[0.   0.   0.   0.   0.   0.   0.   0.25 0.   0.   0.   0.   0.   0.\n",
      " 0.   0.   0.   0.25 0.   0.   0.   0.   0.   0.25 0.   0.   0.   0.\n",
      " 0.   0.   0.   0.25 0.   0.   0.   0.   0.   0.   0.   0.  ]\n"
     ]
    }
   ],
   "source": [
    "predictions = model.predict(x_validate)\n",
    "print(predictions[0])\n",
    "print(y_validate[0])"
   ]
  },
  {
   "cell_type": "code",
   "execution_count": null,
   "metadata": {},
   "outputs": [],
   "source": []
  }
 ],
 "metadata": {
  "kernelspec": {
   "display_name": "Python 3",
   "language": "python",
   "name": "python3"
  },
  "language_info": {
   "codemirror_mode": {
    "name": "ipython",
    "version": 3
   },
   "file_extension": ".py",
   "mimetype": "text/x-python",
   "name": "python",
   "nbconvert_exporter": "python",
   "pygments_lexer": "ipython3",
   "version": "3.6.5"
  }
 },
 "nbformat": 4,
 "nbformat_minor": 2
}
